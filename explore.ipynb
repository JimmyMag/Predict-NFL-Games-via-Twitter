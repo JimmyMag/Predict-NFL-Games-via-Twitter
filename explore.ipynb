{
 "cells": [
  {
   "cell_type": "code",
   "execution_count": 1,
   "metadata": {
    "ExecuteTime": {
     "end_time": "2018-06-04T05:29:28.663217Z",
     "start_time": "2018-06-04T05:29:28.660822Z"
    }
   },
   "outputs": [],
   "source": [
    "#!pip install patsy"
   ]
  },
  {
   "cell_type": "code",
   "execution_count": 2,
   "metadata": {
    "ExecuteTime": {
     "end_time": "2018-06-04T05:29:31.207040Z",
     "start_time": "2018-06-04T05:29:28.898579Z"
    }
   },
   "outputs": [
    {
     "name": "stdout",
     "output_type": "stream",
     "text": [
      "Populating the interactive namespace from numpy and matplotlib\n"
     ]
    }
   ],
   "source": [
    "import lda\n",
    "import patsy\n",
    "import pandas as pd\n",
    "import numpy as np\n",
    "import bokeh.plotting as bp\n",
    "from datetime import timedelta\n",
    "from sklearn import decomposition\n",
    "from sklearn import feature_extraction\n",
    "from sklearn.manifold import TSNE\n",
    "from bokeh.models import HoverTool\n",
    "%pylab inline"
   ]
  },
  {
   "cell_type": "code",
   "execution_count": 3,
   "metadata": {
    "ExecuteTime": {
     "end_time": "2018-06-04T05:29:32.335873Z",
     "start_time": "2018-06-04T05:29:31.208542Z"
    }
   },
   "outputs": [],
   "source": [
    "games = pd.read_csv(\"FinalResults.csv\",\n",
    "                    encoding = \"latin\", header = None, \n",
    "                    names = [\"sentiment\", \"hashtag\", \"week\", \"matchup\", \"kickoff\", \"tweetID\", \"tweet_time\", \"location\", \"verified\", \"text\"], \n",
    "                    dtype={\"sentiment\": str, \"hashtag\": str, \"week\": str, \"matchup\": str, \"tweetID\": np.dtype(\"int64\"),\n",
    "                          \"location\": str, \"verified\": str, \"text\": str})\n",
    "games.kickoff =  pd.to_datetime(games.kickoff, infer_datetime_format = True)\n",
    "games.tweet_time =  pd.to_datetime(games.tweet_time, infer_datetime_format = True)"
   ]
  },
  {
   "cell_type": "code",
   "execution_count": 4,
   "metadata": {
    "ExecuteTime": {
     "end_time": "2018-06-04T05:29:44.390423Z",
     "start_time": "2018-06-04T05:29:32.337350Z"
    }
   },
   "outputs": [],
   "source": [
    "bins = []\n",
    "for row in games.itertuples():\n",
    "    if row.kickoff - row.tweet_time <= timedelta(hours = 1):\n",
    "        bins.append(0)\n",
    "    elif row.kickoff - row.tweet_time <= timedelta(hours = 4):\n",
    "        bins.append(1)\n",
    "    elif row.kickoff - row.tweet_time <= timedelta(hours = 10):\n",
    "        bins.append(2)\n",
    "    elif row.kickoff - row.tweet_time <= timedelta(hours = 24):\n",
    "        bins.append(3)\n",
    "    else:\n",
    "        bins.append(4)\n",
    "bin_col = pd.Series(bins)\n",
    "games[\"time_bin\"] = bin_col.values"
   ]
  },
  {
   "cell_type": "code",
   "execution_count": 5,
   "metadata": {
    "ExecuteTime": {
     "end_time": "2018-06-04T05:29:44.911834Z",
     "start_time": "2018-06-04T05:29:44.393127Z"
    }
   },
   "outputs": [],
   "source": [
    "#temp = games.drop_duplicates(subset = \"text\", keep = \"first\")\n",
    "#tweets_text = temp.text.values\n",
    "tweets_text = games.text.values\n",
    "tweets_text = [' '.join(filter(unicode.isalpha, raw.lower().split())) for raw in tweets_text]"
   ]
  },
  {
   "cell_type": "code",
   "execution_count": 6,
   "metadata": {
    "ExecuteTime": {
     "end_time": "2018-06-04T05:29:44.922348Z",
     "start_time": "2018-06-04T05:29:44.913174Z"
    }
   },
   "outputs": [],
   "source": [
    "# Create a CountVectorizer for parsing/counting words\n",
    "count_vectorizer = feature_extraction.text.CountVectorizer(\n",
    "    ngram_range=(1, 1),\n",
    "    stop_words='english',\n",
    "    token_pattern=\"\\\\b[a-z][a-z]+\\\\b\",\n",
    "    min_df=1,\n",
    ")\n",
    "cvz = count_vectorizer.fit_transform(tweets_text[:100])"
   ]
  },
  {
   "cell_type": "code",
   "execution_count": 7,
   "metadata": {
    "ExecuteTime": {
     "end_time": "2018-06-04T05:29:44.925047Z",
     "start_time": "2018-06-04T05:29:44.923494Z"
    }
   },
   "outputs": [],
   "source": [
    "#corpus = matutils.Sparse2Corpus(cvz)\n",
    "#id2word = dict((v, k) for k, v in count_vectorizer.vocabulary_.items())"
   ]
  },
  {
   "cell_type": "code",
   "execution_count": 8,
   "metadata": {
    "ExecuteTime": {
     "end_time": "2018-06-04T05:29:46.875173Z",
     "start_time": "2018-06-04T05:29:44.926211Z"
    },
    "scrolled": true
   },
   "outputs": [
    {
     "name": "stderr",
     "output_type": "stream",
     "text": [
      "INFO:lda:n_documents: 100\n",
      "INFO:lda:vocab_size: 179\n",
      "INFO:lda:n_words: 543\n",
      "INFO:lda:n_topics: 20\n",
      "INFO:lda:n_iter: 1000\n",
      "WARNING:lda:all zero row in document-term matrix found\n",
      "/home/ubuntu/miniconda3/lib/python3.6/site-packages/lda/utils.py:55: FutureWarning: Conversion of the second argument of issubdtype from `int` to `np.signedinteger` is deprecated. In future, it will be treated as `np.int64 == np.dtype(int).type`.\n",
      "  if sparse and not np.issubdtype(doc_word.dtype, int):\n",
      "INFO:lda:<0> log likelihood: -5539\n",
      "INFO:lda:<10> log likelihood: -3028\n",
      "INFO:lda:<20> log likelihood: -2950\n",
      "INFO:lda:<30> log likelihood: -2935\n",
      "INFO:lda:<40> log likelihood: -2838\n",
      "INFO:lda:<50> log likelihood: -2779\n",
      "INFO:lda:<60> log likelihood: -2818\n",
      "INFO:lda:<70> log likelihood: -2837\n",
      "INFO:lda:<80> log likelihood: -2800\n",
      "INFO:lda:<90> log likelihood: -2838\n",
      "INFO:lda:<100> log likelihood: -2795\n",
      "INFO:lda:<110> log likelihood: -2795\n",
      "INFO:lda:<120> log likelihood: -2826\n",
      "INFO:lda:<130> log likelihood: -2774\n",
      "INFO:lda:<140> log likelihood: -2835\n",
      "INFO:lda:<150> log likelihood: -2873\n",
      "INFO:lda:<160> log likelihood: -2809\n",
      "INFO:lda:<170> log likelihood: -2844\n",
      "INFO:lda:<180> log likelihood: -2808\n",
      "INFO:lda:<190> log likelihood: -2845\n",
      "INFO:lda:<200> log likelihood: -2823\n",
      "INFO:lda:<210> log likelihood: -2813\n",
      "INFO:lda:<220> log likelihood: -2843\n",
      "INFO:lda:<230> log likelihood: -2824\n",
      "INFO:lda:<240> log likelihood: -2794\n",
      "INFO:lda:<250> log likelihood: -2788\n",
      "INFO:lda:<260> log likelihood: -2799\n",
      "INFO:lda:<270> log likelihood: -2829\n",
      "INFO:lda:<280> log likelihood: -2819\n",
      "INFO:lda:<290> log likelihood: -2817\n",
      "INFO:lda:<300> log likelihood: -2842\n",
      "INFO:lda:<310> log likelihood: -2816\n",
      "INFO:lda:<320> log likelihood: -2817\n",
      "INFO:lda:<330> log likelihood: -2817\n",
      "INFO:lda:<340> log likelihood: -2807\n",
      "INFO:lda:<350> log likelihood: -2812\n",
      "INFO:lda:<360> log likelihood: -2816\n",
      "INFO:lda:<370> log likelihood: -2802\n",
      "INFO:lda:<380> log likelihood: -2789\n",
      "INFO:lda:<390> log likelihood: -2877\n",
      "INFO:lda:<400> log likelihood: -2787\n",
      "INFO:lda:<410> log likelihood: -2774\n",
      "INFO:lda:<420> log likelihood: -2804\n",
      "INFO:lda:<430> log likelihood: -2778\n",
      "INFO:lda:<440> log likelihood: -2809\n",
      "INFO:lda:<450> log likelihood: -2808\n",
      "INFO:lda:<460> log likelihood: -2858\n",
      "INFO:lda:<470> log likelihood: -2880\n",
      "INFO:lda:<480> log likelihood: -2798\n",
      "INFO:lda:<490> log likelihood: -2797\n",
      "INFO:lda:<500> log likelihood: -2798\n",
      "INFO:lda:<510> log likelihood: -2762\n",
      "INFO:lda:<520> log likelihood: -2820\n",
      "INFO:lda:<530> log likelihood: -2816\n",
      "INFO:lda:<540> log likelihood: -2826\n",
      "INFO:lda:<550> log likelihood: -2814\n",
      "INFO:lda:<560> log likelihood: -2814\n",
      "INFO:lda:<570> log likelihood: -2840\n",
      "INFO:lda:<580> log likelihood: -2834\n",
      "INFO:lda:<590> log likelihood: -2814\n",
      "INFO:lda:<600> log likelihood: -2845\n",
      "INFO:lda:<610> log likelihood: -2816\n",
      "INFO:lda:<620> log likelihood: -2821\n",
      "INFO:lda:<630> log likelihood: -2824\n",
      "INFO:lda:<640> log likelihood: -2809\n",
      "INFO:lda:<650> log likelihood: -2780\n",
      "INFO:lda:<660> log likelihood: -2785\n",
      "INFO:lda:<670> log likelihood: -2796\n",
      "INFO:lda:<680> log likelihood: -2794\n",
      "INFO:lda:<690> log likelihood: -2827\n",
      "INFO:lda:<700> log likelihood: -2778\n",
      "INFO:lda:<710> log likelihood: -2853\n",
      "INFO:lda:<720> log likelihood: -2844\n",
      "INFO:lda:<730> log likelihood: -2829\n",
      "INFO:lda:<740> log likelihood: -2837\n",
      "INFO:lda:<750> log likelihood: -2849\n",
      "INFO:lda:<760> log likelihood: -2795\n",
      "INFO:lda:<770> log likelihood: -2818\n",
      "INFO:lda:<780> log likelihood: -2823\n",
      "INFO:lda:<790> log likelihood: -2859\n",
      "INFO:lda:<800> log likelihood: -2814\n",
      "INFO:lda:<810> log likelihood: -2807\n",
      "INFO:lda:<820> log likelihood: -2825\n",
      "INFO:lda:<830> log likelihood: -2861\n",
      "INFO:lda:<840> log likelihood: -2777\n",
      "INFO:lda:<850> log likelihood: -2823\n",
      "INFO:lda:<860> log likelihood: -2793\n",
      "INFO:lda:<870> log likelihood: -2808\n",
      "INFO:lda:<880> log likelihood: -2794\n",
      "INFO:lda:<890> log likelihood: -2791\n",
      "INFO:lda:<900> log likelihood: -2794\n",
      "INFO:lda:<910> log likelihood: -2787\n",
      "INFO:lda:<920> log likelihood: -2805\n",
      "INFO:lda:<930> log likelihood: -2795\n",
      "INFO:lda:<940> log likelihood: -2844\n",
      "INFO:lda:<950> log likelihood: -2783\n",
      "INFO:lda:<960> log likelihood: -2814\n",
      "INFO:lda:<970> log likelihood: -2813\n",
      "INFO:lda:<980> log likelihood: -2807\n",
      "INFO:lda:<990> log likelihood: -2775\n",
      "INFO:lda:<999> log likelihood: -2798\n"
     ]
    }
   ],
   "source": [
    "lda_model = lda.LDA(n_topics = 20, n_iter = 1000)\n",
    "x_topics = lda_model.fit_transform(cvz);\n",
    "\n",
    "#lda_model = models.LdaModel(corpus=corpus, num_topics=5, id2word=id2word, passes=10)"
   ]
  },
  {
   "cell_type": "code",
   "execution_count": 9,
   "metadata": {
    "ExecuteTime": {
     "end_time": "2018-06-04T05:29:46.878031Z",
     "start_time": "2018-06-04T05:29:46.876493Z"
    }
   },
   "outputs": [],
   "source": [
    "#lda_corpus = lda_model[corpus]\n",
    "#lda_docs = [doc for doc in lda_corpus]"
   ]
  },
  {
   "cell_type": "code",
   "execution_count": 10,
   "metadata": {
    "ExecuteTime": {
     "end_time": "2018-06-04T05:29:46.883011Z",
     "start_time": "2018-06-04T05:29:46.879170Z"
    }
   },
   "outputs": [],
   "source": [
    "#lda_model.print_topics()"
   ]
  },
  {
   "cell_type": "code",
   "execution_count": 11,
   "metadata": {
    "ExecuteTime": {
     "end_time": "2018-06-04T05:29:46.887405Z",
     "start_time": "2018-06-04T05:29:46.884175Z"
    }
   },
   "outputs": [],
   "source": [
    "#threshold = 0.2\n",
    "#_idx = np.amax(x_topics, axis=1) > threshold  # idx of doc that above the threshold\n",
    "#x_topics = x_topics[_idx]"
   ]
  },
  {
   "cell_type": "code",
   "execution_count": 12,
   "metadata": {
    "ExecuteTime": {
     "end_time": "2018-06-04T05:29:46.891658Z",
     "start_time": "2018-06-04T05:29:46.888591Z"
    }
   },
   "outputs": [],
   "source": [
    "#lda_docs[0][1][1]\n",
    "#x_topics = [[item[i][1] for i in range(len(item))] for item in lda_docs]"
   ]
  },
  {
   "cell_type": "code",
   "execution_count": 13,
   "metadata": {
    "ExecuteTime": {
     "end_time": "2018-06-04T05:29:46.903012Z",
     "start_time": "2018-06-04T05:29:46.892772Z"
    }
   },
   "outputs": [
    {
     "data": {
      "text/plain": [
       "(100, 20)"
      ]
     },
     "execution_count": 13,
     "metadata": {},
     "output_type": "execute_result"
    }
   ],
   "source": [
    "x_topics.shape"
   ]
  },
  {
   "cell_type": "code",
   "execution_count": 14,
   "metadata": {
    "ExecuteTime": {
     "end_time": "2018-06-04T05:29:48.382808Z",
     "start_time": "2018-06-04T05:29:46.904163Z"
    },
    "scrolled": true
   },
   "outputs": [
    {
     "name": "stdout",
     "output_type": "stream",
     "text": [
      "[t-SNE] Computing 99 nearest neighbors...\n",
      "[t-SNE] Indexed 100 samples in 0.000s...\n",
      "[t-SNE] Computed neighbors for 100 samples in 0.069s...\n",
      "[t-SNE] Computed conditional probabilities for sample 100 / 100\n",
      "[t-SNE] Mean sigma: 0.454613\n",
      "[t-SNE] KL divergence after 250 iterations with early exaggeration: 48.535526\n",
      "[t-SNE] Error after 1000 iterations: 0.112974\n"
     ]
    }
   ],
   "source": [
    "tsne_model = TSNE(n_components = 2, verbose = 1, perplexity = 50)\n",
    "tsne_lda = tsne_model.fit_transform(x_topics);"
   ]
  },
  {
   "cell_type": "code",
   "execution_count": 15,
   "metadata": {
    "ExecuteTime": {
     "end_time": "2018-06-04T05:29:48.386490Z",
     "start_time": "2018-06-04T05:29:48.384399Z"
    }
   },
   "outputs": [],
   "source": [
    "#Might require NMR\n",
    "#import matplotlib.pyplot as plt\n",
    "#plt.figure(figsize=(20,20))\n",
    "#plt.scatter(tsne_lda.T[0],tsne_lda.T[1],c=x_topics,alpha=1,cmap=plt.cm.get_cmap('tab20_r', 20))\n",
    "#plt.legend()"
   ]
  },
  {
   "cell_type": "code",
   "execution_count": 16,
   "metadata": {
    "ExecuteTime": {
     "end_time": "2018-06-04T05:29:48.391648Z",
     "start_time": "2018-06-04T05:29:48.387681Z"
    }
   },
   "outputs": [],
   "source": [
    "n_top_words = 5 # number of keywords we show\n",
    "\n",
    "# 20 colors\n",
    "colormap = np.array([\n",
    "    \"#1f77b4\", \"#aec7e8\", \"#ff7f0e\", \"#ffbb78\", \"#2ca02c\",\n",
    "    \"#98df8a\", \"#d62728\", \"#ff9896\", \"#9467bd\", \"#c5b0d5\",\n",
    "    \"#8c564b\", \"#c49c94\", \"#e377c2\", \"#f7b6d2\", \"#7f7f7f\",\n",
    "    \"#c7c7c7\", \"#bcbd22\", \"#dbdb8d\", \"#17becf\", \"#9edae5\"\n",
    "])"
   ]
  },
  {
   "cell_type": "code",
   "execution_count": 17,
   "metadata": {
    "ExecuteTime": {
     "end_time": "2018-06-04T05:29:48.398051Z",
     "start_time": "2018-06-04T05:29:48.392913Z"
    }
   },
   "outputs": [],
   "source": [
    "_lda_keys = []\n",
    "for i in range(x_topics.shape[0]):\n",
    "    _lda_keys +=  x_topics[i].argmax(),"
   ]
  },
  {
   "cell_type": "code",
   "execution_count": 18,
   "metadata": {
    "ExecuteTime": {
     "end_time": "2018-06-04T05:29:48.402909Z",
     "start_time": "2018-06-04T05:29:48.399210Z"
    }
   },
   "outputs": [],
   "source": [
    "topic_summaries = []\n",
    "topic_word = lda_model.topic_word_  # all topic words\n",
    "vocab = count_vectorizer.get_feature_names()\n",
    "for i, topic_dist in enumerate(topic_word):\n",
    "    topic_words = np.array(vocab)[np.argsort(topic_dist)][:-(n_top_words + 1):-1] # get!\n",
    "    topic_summaries.append(' '.join(topic_words)) # append!"
   ]
  },
  {
   "cell_type": "code",
   "execution_count": 19,
   "metadata": {
    "ExecuteTime": {
     "end_time": "2018-06-04T05:29:48.417147Z",
     "start_time": "2018-06-04T05:29:48.404071Z"
    }
   },
   "outputs": [],
   "source": [
    "title = 'Test Visualization'\n",
    "num_example = len(x_topics)\n",
    "\n",
    "plot_lda = bp.figure(plot_width=1400, plot_height=1100,\n",
    "                     title=title,\n",
    "                     tools=\"pan,wheel_zoom,box_zoom,reset,hover,previewsave\",\n",
    "                     x_axis_type=None, y_axis_type=None, min_border=1)\n",
    "\n",
    "plot_lda.scatter(x=tsne_lda[:, 0], y=tsne_lda[:, 1],\n",
    "                 color=colormap[_lda_keys][:num_example],\n",
    ")\n",
    "\"\"\"\n",
    "                 source=bp.ColumnDataSource({\n",
    "                   \"content\": tweets_text[:num_example],\n",
    "                   \"topic_key\": _lda_keys[:num_example]\n",
    "                   })\"\"\";"
   ]
  },
  {
   "cell_type": "code",
   "execution_count": 20,
   "metadata": {
    "ExecuteTime": {
     "end_time": "2018-06-04T05:29:48.443809Z",
     "start_time": "2018-06-04T05:29:48.418274Z"
    }
   },
   "outputs": [
    {
     "name": "stderr",
     "output_type": "stream",
     "text": [
      "/home/ubuntu/miniconda3/lib/python3.6/site-packages/bokeh/io/saving.py:123: UserWarning: save() called but no resources were supplied and output_file(...) was never called, defaulting to resources.CDN\n",
      "  warn(\"save() called but no resources were supplied and output_file(...) was never called, defaulting to resources.CDN\")\n",
      "/home/ubuntu/miniconda3/lib/python3.6/site-packages/bokeh/io/saving.py:136: UserWarning: save() called but no title was supplied and output_file(...) was never called, using default title 'Bokeh Plot'\n",
      "  warn(\"save() called but no title was supplied and output_file(...) was never called, using default title 'Bokeh Plot'\")\n"
     ]
    }
   ],
   "source": [
    "topic_coord = np.empty((x_topics.shape[1], 2)) * np.nan\n",
    "for topic_num in _lda_keys:\n",
    "    if not np.isnan(topic_coord).any():\n",
    "        break\n",
    "    topic_coord[topic_num] = tsne_lda[_lda_keys.index(topic_num)]\n",
    "\n",
    "# plot crucial words\n",
    "#for i in range(x_topics.shape[1]):\n",
    "#    plot_lda.text(topic_coord[i, 0], topic_coord[i, 1], [topic_summaries[i]])\n",
    "\n",
    "# hover tools\n",
    "hover = plot_lda.select(dict(type=HoverTool))\n",
    "hover.tooltips = {\"content\": \"@content - topic: @topic_key\"}\n",
    "\n",
    "# save the plot\n",
    "bp.save(plot_lda, '{}.html'.format(title));"
   ]
  },
  {
   "cell_type": "code",
   "execution_count": 21,
   "metadata": {
    "ExecuteTime": {
     "end_time": "2018-06-04T05:29:48.446898Z",
     "start_time": "2018-06-04T05:29:48.444963Z"
    }
   },
   "outputs": [],
   "source": [
    "from __future__ import print_function\n",
    "from sklearn.feature_extraction.text import TfidfVectorizer, CountVectorizer\n",
    "from sklearn.decomposition import NMF, LatentDirichletAllocation"
   ]
  },
  {
   "cell_type": "code",
   "execution_count": 22,
   "metadata": {
    "ExecuteTime": {
     "end_time": "2018-06-04T05:29:48.453921Z",
     "start_time": "2018-06-04T05:29:48.447990Z"
    }
   },
   "outputs": [],
   "source": [
    "def print_top_words(model, feature_names, n_top_words):\n",
    "    for topic_idx, topic in enumerate(model.components_):\n",
    "        message = \"Topic #%d: \" % topic_idx\n",
    "        message += \" \".join([feature_names[i]\n",
    "                             for i in topic.argsort()[:-n_top_words - 1:-1]])\n",
    "        print(message)\n",
    "    print()"
   ]
  },
  {
   "cell_type": "code",
   "execution_count": 23,
   "metadata": {
    "ExecuteTime": {
     "end_time": "2018-06-04T05:29:48.459183Z",
     "start_time": "2018-06-04T05:29:48.455047Z"
    }
   },
   "outputs": [],
   "source": [
    "n_features = 1000\n",
    "n_topics = 5\n",
    "n_top_words = 20\n",
    "#perc = int(len(tweets_text)/50)\n",
    "perc = 5"
   ]
  },
  {
   "cell_type": "code",
   "execution_count": 24,
   "metadata": {
    "ExecuteTime": {
     "end_time": "2018-06-04T05:29:55.190672Z",
     "start_time": "2018-06-04T05:29:48.460279Z"
    }
   },
   "outputs": [
    {
     "name": "stdout",
     "output_type": "stream",
     "text": [
      "Topic #0: alshon jeffery contract signed extension wr worth gets locking key source deal perfect active new antonio brown year sign continue\n",
      "Topic #1: happy wish rt qb far favorite win knit enter field aaron rodgers giving away chance micro fam christmas appreciate return\n",
      "Topic #2: look robin brenton thwaites costume upcoming play pic holy really like looks thank dick new throwing series win grayson live\n",
      "Topic #3: game day week vs ready win time nfl watch today night play sunday tonight field good football live big team\n",
      "Topic #4: support eagles shoes charitable wearing staff coaches foundation custom ran cool tonight thanks continue home need away gold post win\n",
      "\n"
     ]
    }
   ],
   "source": [
    "# Use tf-idf features for NMF.\n",
    "tfidf_vectorizer = TfidfVectorizer(max_df=0.95, min_df=perc,\n",
    "                                   max_features=n_features,\n",
    "                                   stop_words='english')\n",
    "tfidf = tfidf_vectorizer.fit_transform(tweets_text)\n",
    "\n",
    "nmf = NMF(n_components=n_topics, random_state=1,\n",
    "          alpha=.1, l1_ratio=.5).fit(tfidf)\n",
    "\n",
    "tfidf_feature_names = tfidf_vectorizer.get_feature_names()\n",
    "print_top_words(nmf, tfidf_feature_names, n_top_words)"
   ]
  },
  {
   "cell_type": "code",
   "execution_count": 25,
   "metadata": {
    "ExecuteTime": {
     "end_time": "2018-06-04T05:30:10.842651Z",
     "start_time": "2018-06-04T05:29:55.192334Z"
    }
   },
   "outputs": [
    {
     "name": "stdout",
     "output_type": "stream",
     "text": [
      "Topic #0: wr jeffery signed alshon extension contract active brown gets antonio rb key ab limited ty roster sign source injured place\n",
      "Topic #1: qb rt happy wish field win aaron favorite rodgers return chance player away far practice christmas make giving start officially\n",
      "Topic #2: look play today sunday just live cb robin new pregame like going fans make brenton te love thwaites looks throwing\n",
      "Topic #3: game vs time nfl ready night watch day season football got retweet pick best team games big good hours know\n",
      "Topic #4: week win support tonight gameday eli need burgundy players did manning white eagles officially playoff black handled jerseys agree green\n",
      "\n"
     ]
    }
   ],
   "source": [
    "nmf = NMF(n_components=n_topics, random_state=1,\n",
    "          beta_loss='kullback-leibler', solver='mu', max_iter=1000, alpha=.1,\n",
    "          l1_ratio=.5).fit(tfidf)\n",
    "\n",
    "tfidf_feature_names = tfidf_vectorizer.get_feature_names()\n",
    "print_top_words(nmf, tfidf_feature_names, n_top_words)"
   ]
  },
  {
   "cell_type": "code",
   "execution_count": 33,
   "metadata": {
    "ExecuteTime": {
     "end_time": "2018-06-04T05:37:20.558165Z",
     "start_time": "2018-06-04T05:37:20.554675Z"
    }
   },
   "outputs": [],
   "source": [
    "more_stops = [\"Buffalo\", \"Miami\", \"New England\", \"New York\", \"Baltimore\",\n",
    "\"Cincinnati\", \"Cleveland\", \"Pittsburgh\", \"Houston\", \"Indianapolis\",\n",
    "\"Jacksonville\", \"Tennessee\", \"Denver\", \"Kansas City\", \"Los Angeles\",\n",
    "\"Dallas\", \"Philadelphia\", \"Washington\", \"Chicago\", \"Detroit\",\n",
    "\"Green Bay\", \"Minnesota\", \"Atlanta\", \"Carolina\", \"New Orleans\"\n",
    "\"Tampa Bay\", \"Arizona\", \"San Francisco\", \"Seattle\", \"Oakland\", \"bills\", \"dolphins\", \"patriots\", \"jets\", \"ravens\", \"bengals\", \"browns\", \"steelers\",\n",
    "\"texans\", \"colts\", \"jaguars\", \"titans\", \"broncos\", \"chiefs\", \"chargers\", \"radiers\",\n",
    "\"cowboys\", \"giants\", \"eagles\", \"redskins\", \"bears\", \"lions\", \"packers\", \"vikings\",\n",
    "\"falcons\", \"panthers\", \"saints\", \"buccaneers\", \"cardinals\", \"rams\", \"49ers\", \"seahawks\"]"
   ]
  },
  {
   "cell_type": "code",
   "execution_count": 36,
   "metadata": {
    "ExecuteTime": {
     "end_time": "2018-06-04T05:39:08.447984Z",
     "start_time": "2018-06-04T05:38:08.440835Z"
    }
   },
   "outputs": [
    {
     "name": "stdout",
     "output_type": "stream",
     "text": [
      "Topic #0: vs tonight live brown football antonio just burgundy nfl monday watch worth sunday dallas big need field aaron ab rb\n",
      "Topic #1: rt week win thursday eli games geno ready getting day did agree smith retweet members injury ownership handled arriving practice\n",
      "Topic #2: wr signed extension contract play wish look time today source active team gets going new season pick te rb nfc\n",
      "Topic #3: alshon jeffery game qb night manning coach good got lee ct video head cleats jimmy locking close practiced decision ty\n",
      "Topic #4: happy cb fans sean make best guys marshon players want right rush wear black beat dress color away giving josh\n",
      "\n"
     ]
    }
   ],
   "source": [
    "from sklearn.feature_extraction import text\n",
    "# Use tf (raw term count) features for LDA.\n",
    "tf_vectorizer = CountVectorizer(max_df=0.95, min_df=perc,\n",
    "                                max_features=n_features,\n",
    "                                stop_words=text.ENGLISH_STOP_WORDS.union(more_stops))\n",
    "\n",
    "tf = tf_vectorizer.fit_transform(tweets_text)\n",
    "\n",
    "lda = LatentDirichletAllocation(n_components=n_topics, max_iter=5,\n",
    "                                learning_method='online',\n",
    "                                learning_offset=50.)\n",
    "new_model = lda.fit_transform(tf)\n",
    "\n",
    "tf_feature_names = tf_vectorizer.get_feature_names()\n",
    "print_top_words(lda, tf_feature_names, n_top_words)"
   ]
  },
  {
   "cell_type": "code",
   "execution_count": 37,
   "metadata": {
    "ExecuteTime": {
     "end_time": "2018-06-04T05:39:08.459549Z",
     "start_time": "2018-06-04T05:39:08.450251Z"
    }
   },
   "outputs": [],
   "source": [
    "matchups = pd.read_csv(\"Matchups.csv\", header = None,\n",
    "                    names = [\"week\", \"matchup\", \"away\", \"home\", \"kickoff\", \"winner\", \"score\", \"spread\"], \n",
    "                    dtype={\"week\": str, \"matchup\": str, \"away\": str, \"home\": str, \"winner\": str, \"score\": str, \"spread\": np.dtype(\"float64\")})\n",
    "matchups.kickoff =  pd.to_datetime(matchups.kickoff, infer_datetime_format = True)"
   ]
  },
  {
   "cell_type": "code",
   "execution_count": 38,
   "metadata": {
    "ExecuteTime": {
     "end_time": "2018-06-04T05:39:08.464609Z",
     "start_time": "2018-06-04T05:39:08.461059Z"
    }
   },
   "outputs": [],
   "source": [
    "hashtagger = lambda x: \"#\" + x.split()[-1].lower()\n",
    "matchups[\"away\"] = matchups[\"away\"].apply(hashtagger)\n",
    "matchups[\"home\"] = matchups[\"home\"].apply(hashtagger)\n",
    "matchups[\"winner\"] = matchups[\"winner\"].apply(hashtagger)"
   ]
  },
  {
   "cell_type": "code",
   "execution_count": 39,
   "metadata": {
    "ExecuteTime": {
     "end_time": "2018-06-04T05:39:08.468784Z",
     "start_time": "2018-06-04T05:39:08.466233Z"
    }
   },
   "outputs": [],
   "source": [
    "teams = matchups[\"away\"].values.tolist()\n",
    "teams.extend(matchups[\"home\"].values.tolist())\n",
    "teams = (set(teams))"
   ]
  },
  {
   "cell_type": "code",
   "execution_count": 40,
   "metadata": {
    "ExecuteTime": {
     "end_time": "2018-06-04T05:39:08.826726Z",
     "start_time": "2018-06-04T05:39:08.469932Z"
    }
   },
   "outputs": [],
   "source": [
    "topics = []\n",
    "for item in new_model:\n",
    "    max_ind = argmax(item)\n",
    "    if item[max_ind] < 0.1:\n",
    "        max_ind = -1\n",
    "    topics.append(max_ind)\n",
    "topic_col = pd.Series(topics)\n",
    "games[\"topic\"] = topic_col.values"
   ]
  },
  {
   "cell_type": "code",
   "execution_count": 41,
   "metadata": {
    "ExecuteTime": {
     "end_time": "2018-06-04T05:39:08.842774Z",
     "start_time": "2018-06-04T05:39:08.827811Z"
    },
    "scrolled": true
   },
   "outputs": [
    {
     "data": {
      "text/html": [
       "<div>\n",
       "<style scoped>\n",
       "    .dataframe tbody tr th:only-of-type {\n",
       "        vertical-align: middle;\n",
       "    }\n",
       "\n",
       "    .dataframe tbody tr th {\n",
       "        vertical-align: top;\n",
       "    }\n",
       "\n",
       "    .dataframe thead th {\n",
       "        text-align: right;\n",
       "    }\n",
       "</style>\n",
       "<table border=\"1\" class=\"dataframe\">\n",
       "  <thead>\n",
       "    <tr style=\"text-align: right;\">\n",
       "      <th></th>\n",
       "      <th>week</th>\n",
       "      <th>matchup</th>\n",
       "      <th>away</th>\n",
       "      <th>home</th>\n",
       "      <th>kickoff</th>\n",
       "      <th>winner</th>\n",
       "      <th>score</th>\n",
       "      <th>spread</th>\n",
       "    </tr>\n",
       "  </thead>\n",
       "  <tbody>\n",
       "    <tr>\n",
       "      <th>0</th>\n",
       "      <td>Week 12</td>\n",
       "      <td>CLEvsCIN</td>\n",
       "      <td>#browns</td>\n",
       "      <td>#bengals</td>\n",
       "      <td>2017-11-26 18:00:00</td>\n",
       "      <td>#bengals</td>\n",
       "      <td>16-30</td>\n",
       "      <td>-7.5</td>\n",
       "    </tr>\n",
       "    <tr>\n",
       "      <th>1</th>\n",
       "      <td>Week 12</td>\n",
       "      <td>TENvsIND</td>\n",
       "      <td>#titans</td>\n",
       "      <td>#colts</td>\n",
       "      <td>2017-11-26 18:00:00</td>\n",
       "      <td>#titans</td>\n",
       "      <td>20-16</td>\n",
       "      <td>-3.0</td>\n",
       "    </tr>\n",
       "    <tr>\n",
       "      <th>2</th>\n",
       "      <td>Week 12</td>\n",
       "      <td>CHIvsPHI</td>\n",
       "      <td>#bears</td>\n",
       "      <td>#eagles</td>\n",
       "      <td>2017-11-26 18:00:00</td>\n",
       "      <td>#eagles</td>\n",
       "      <td>3-31</td>\n",
       "      <td>-14.0</td>\n",
       "    </tr>\n",
       "    <tr>\n",
       "      <th>3</th>\n",
       "      <td>Week 12</td>\n",
       "      <td>CARvsNYJ</td>\n",
       "      <td>#panthers</td>\n",
       "      <td>#jets</td>\n",
       "      <td>2017-11-26 18:00:00</td>\n",
       "      <td>#panthers</td>\n",
       "      <td>35-27</td>\n",
       "      <td>-5.5</td>\n",
       "    </tr>\n",
       "    <tr>\n",
       "      <th>4</th>\n",
       "      <td>Week 12</td>\n",
       "      <td>MIAvsNE</td>\n",
       "      <td>#dolphins</td>\n",
       "      <td>#patriots</td>\n",
       "      <td>2017-11-26 18:00:00</td>\n",
       "      <td>#patriots</td>\n",
       "      <td>17-35</td>\n",
       "      <td>-17.0</td>\n",
       "    </tr>\n",
       "  </tbody>\n",
       "</table>\n",
       "</div>"
      ],
      "text/plain": [
       "      week   matchup       away       home             kickoff     winner  \\\n",
       "0  Week 12  CLEvsCIN    #browns   #bengals 2017-11-26 18:00:00   #bengals   \n",
       "1  Week 12  TENvsIND    #titans     #colts 2017-11-26 18:00:00    #titans   \n",
       "2  Week 12  CHIvsPHI     #bears    #eagles 2017-11-26 18:00:00    #eagles   \n",
       "3  Week 12  CARvsNYJ  #panthers      #jets 2017-11-26 18:00:00  #panthers   \n",
       "4  Week 12   MIAvsNE  #dolphins  #patriots 2017-11-26 18:00:00  #patriots   \n",
       "\n",
       "   score  spread  \n",
       "0  16-30    -7.5  \n",
       "1  20-16    -3.0  \n",
       "2   3-31   -14.0  \n",
       "3  35-27    -5.5  \n",
       "4  17-35   -17.0  "
      ]
     },
     "execution_count": 41,
     "metadata": {},
     "output_type": "execute_result"
    }
   ],
   "source": [
    "matchups.head()"
   ]
  },
  {
   "cell_type": "code",
   "execution_count": 42,
   "metadata": {
    "ExecuteTime": {
     "end_time": "2018-06-04T05:39:08.847907Z",
     "start_time": "2018-06-04T05:39:08.843915Z"
    }
   },
   "outputs": [
    {
     "data": {
      "text/plain": [
       "(210037, 12)"
      ]
     },
     "execution_count": 42,
     "metadata": {},
     "output_type": "execute_result"
    }
   ],
   "source": [
    "games.shape"
   ]
  },
  {
   "cell_type": "code",
   "execution_count": 43,
   "metadata": {
    "ExecuteTime": {
     "end_time": "2018-06-04T05:39:08.882162Z",
     "start_time": "2018-06-04T05:39:08.849199Z"
    }
   },
   "outputs": [],
   "source": [
    "teams_only = games.loc[games[\"hashtag\"].isin(teams)]"
   ]
  },
  {
   "cell_type": "code",
   "execution_count": 44,
   "metadata": {
    "ExecuteTime": {
     "end_time": "2018-06-04T05:39:08.894104Z",
     "start_time": "2018-06-04T05:39:08.883485Z"
    }
   },
   "outputs": [
    {
     "data": {
      "text/html": [
       "<div>\n",
       "<style scoped>\n",
       "    .dataframe tbody tr th:only-of-type {\n",
       "        vertical-align: middle;\n",
       "    }\n",
       "\n",
       "    .dataframe tbody tr th {\n",
       "        vertical-align: top;\n",
       "    }\n",
       "\n",
       "    .dataframe thead th {\n",
       "        text-align: right;\n",
       "    }\n",
       "</style>\n",
       "<table border=\"1\" class=\"dataframe\">\n",
       "  <thead>\n",
       "    <tr style=\"text-align: right;\">\n",
       "      <th></th>\n",
       "      <th>sentiment</th>\n",
       "      <th>hashtag</th>\n",
       "      <th>week</th>\n",
       "      <th>matchup</th>\n",
       "      <th>kickoff</th>\n",
       "      <th>tweetID</th>\n",
       "      <th>tweet_time</th>\n",
       "      <th>location</th>\n",
       "      <th>verified</th>\n",
       "      <th>text</th>\n",
       "      <th>time_bin</th>\n",
       "      <th>topic</th>\n",
       "    </tr>\n",
       "  </thead>\n",
       "  <tbody>\n",
       "    <tr>\n",
       "      <th>0</th>\n",
       "      <td>Positive</td>\n",
       "      <td>#browns</td>\n",
       "      <td>Week 12</td>\n",
       "      <td>CLEvsCIN</td>\n",
       "      <td>2017-11-26 18:00:00</td>\n",
       "      <td>934844176029704193</td>\n",
       "      <td>2017-11-26 17:59:54</td>\n",
       "      <td>Elyria, OH</td>\n",
       "      <td>False</td>\n",
       "      <td>b'@ScottPetrak Duh! Lets go #Browns 26-13'</td>\n",
       "      <td>0</td>\n",
       "      <td>2</td>\n",
       "    </tr>\n",
       "    <tr>\n",
       "      <th>1</th>\n",
       "      <td>Positive</td>\n",
       "      <td>#browns</td>\n",
       "      <td>Week 12</td>\n",
       "      <td>CLEvsCIN</td>\n",
       "      <td>2017-11-26 18:00:00</td>\n",
       "      <td>934844159847890945</td>\n",
       "      <td>2017-11-26 17:59:50</td>\n",
       "      <td>NaN</td>\n",
       "      <td>False</td>\n",
       "      <td>b'RT @MaryKayCabot: Josh Gordon instantly beca...</td>\n",
       "      <td>0</td>\n",
       "      <td>4</td>\n",
       "    </tr>\n",
       "    <tr>\n",
       "      <th>2</th>\n",
       "      <td>Positive</td>\n",
       "      <td>#browns</td>\n",
       "      <td>Week 12</td>\n",
       "      <td>CLEvsCIN</td>\n",
       "      <td>2017-11-26 18:00:00</td>\n",
       "      <td>934844156157022208</td>\n",
       "      <td>2017-11-26 17:59:50</td>\n",
       "      <td>Ohio</td>\n",
       "      <td>False</td>\n",
       "      <td>b'This would make me think Coach is safe Hopef...</td>\n",
       "      <td>0</td>\n",
       "      <td>4</td>\n",
       "    </tr>\n",
       "    <tr>\n",
       "      <th>3</th>\n",
       "      <td>Negative</td>\n",
       "      <td>#browns</td>\n",
       "      <td>Week 12</td>\n",
       "      <td>CLEvsCIN</td>\n",
       "      <td>2017-11-26 18:00:00</td>\n",
       "      <td>934844136917790720</td>\n",
       "      <td>2017-11-26 17:59:45</td>\n",
       "      <td>Cincinnati, OH</td>\n",
       "      <td>False</td>\n",
       "      <td>b'6-10 starts today. #Browns'</td>\n",
       "      <td>0</td>\n",
       "      <td>1</td>\n",
       "    </tr>\n",
       "    <tr>\n",
       "      <th>4</th>\n",
       "      <td>Positive</td>\n",
       "      <td>#browns</td>\n",
       "      <td>Week 12</td>\n",
       "      <td>CLEvsCIN</td>\n",
       "      <td>2017-11-26 18:00:00</td>\n",
       "      <td>934844122267095041</td>\n",
       "      <td>2017-11-26 17:59:41</td>\n",
       "      <td>NaN</td>\n",
       "      <td>False</td>\n",
       "      <td>b'RT @nflstreamg: #Bengals Vs #Browns Live Str...</td>\n",
       "      <td>0</td>\n",
       "      <td>0</td>\n",
       "    </tr>\n",
       "  </tbody>\n",
       "</table>\n",
       "</div>"
      ],
      "text/plain": [
       "  sentiment  hashtag     week   matchup             kickoff  \\\n",
       "0  Positive  #browns  Week 12  CLEvsCIN 2017-11-26 18:00:00   \n",
       "1  Positive  #browns  Week 12  CLEvsCIN 2017-11-26 18:00:00   \n",
       "2  Positive  #browns  Week 12  CLEvsCIN 2017-11-26 18:00:00   \n",
       "3  Negative  #browns  Week 12  CLEvsCIN 2017-11-26 18:00:00   \n",
       "4  Positive  #browns  Week 12  CLEvsCIN 2017-11-26 18:00:00   \n",
       "\n",
       "              tweetID          tweet_time        location verified  \\\n",
       "0  934844176029704193 2017-11-26 17:59:54      Elyria, OH    False   \n",
       "1  934844159847890945 2017-11-26 17:59:50             NaN    False   \n",
       "2  934844156157022208 2017-11-26 17:59:50            Ohio    False   \n",
       "3  934844136917790720 2017-11-26 17:59:45  Cincinnati, OH    False   \n",
       "4  934844122267095041 2017-11-26 17:59:41             NaN    False   \n",
       "\n",
       "                                                text  time_bin  topic  \n",
       "0         b'@ScottPetrak Duh! Lets go #Browns 26-13'         0      2  \n",
       "1  b'RT @MaryKayCabot: Josh Gordon instantly beca...         0      4  \n",
       "2  b'This would make me think Coach is safe Hopef...         0      4  \n",
       "3                      b'6-10 starts today. #Browns'         0      1  \n",
       "4  b'RT @nflstreamg: #Bengals Vs #Browns Live Str...         0      0  "
      ]
     },
     "execution_count": 44,
     "metadata": {},
     "output_type": "execute_result"
    }
   ],
   "source": [
    "teams_only.head()"
   ]
  },
  {
   "cell_type": "code",
   "execution_count": 45,
   "metadata": {
    "ExecuteTime": {
     "end_time": "2018-06-04T05:39:08.901643Z",
     "start_time": "2018-06-04T05:39:08.895243Z"
    },
    "scrolled": true
   },
   "outputs": [],
   "source": [
    "def generate_game_freqs(n_topics, teams_only, matchups):\n",
    "    games_freq = []\n",
    "    for row in matchups.itertuples():\n",
    "        freqs = []\n",
    "        if (row.away == \"#browns\" and row.week == \"Week 12\"): #not enough tweets collected this week\n",
    "            continue\n",
    "        temp_game = teams_only.loc[teams_only[\"matchup\"] == row.matchup]\n",
    "        count_temp = temp_game.groupby([\"hashtag\", \"topic\", \"time_bin\", \"sentiment\"]).count()\n",
    "        game_teams = count_temp.reset_index().hashtag.unique().tolist()\n",
    "        if row.winner == row.home:\n",
    "            freqs.append(\"home\")\n",
    "        else:\n",
    "            freqs.append(\"away\")\n",
    "        for team in game_teams:\n",
    "            for topic in range (n_topics):\n",
    "                for tbin in range (5):\n",
    "                    pos = count_temp.query('hashtag == @team and topic == @topic and time_bin == @tbin and sentiment == \"Positive\"')\n",
    "                    neg = count_temp.query('hashtag == @team and topic == @topic and time_bin == @tbin and sentiment == \"Negative\"')\n",
    "                    if pos.empty:\n",
    "                        freqs.append(0.0)\n",
    "                    elif neg.empty:\n",
    "                        freqs.append(1.0)\n",
    "                    else:\n",
    "                        pos = pos.iloc[0].week\n",
    "                        neg = neg.iloc[0].week\n",
    "                        freqs.append(pos/(pos + neg))\n",
    "        games_freq.append(freqs)\n",
    "    return games_freq"
   ]
  },
  {
   "cell_type": "code",
   "execution_count": 51,
   "metadata": {
    "ExecuteTime": {
     "end_time": "2018-06-04T06:51:57.588811Z",
     "start_time": "2018-06-04T06:51:57.585881Z"
    }
   },
   "outputs": [],
   "source": [
    "def get_topics(n_topics, tweets_text):\n",
    "    # Use tf (raw term count) features for LDA.\n",
    "    tf_vectorizer = CountVectorizer(max_df=0.95, min_df=perc,\n",
    "                                max_features=n_features,\n",
    "                                stop_words=text.ENGLISH_STOP_WORDS.union(more_stops))\n",
    "\n",
    "    tf = tf_vectorizer.fit_transform(tweets_text)\n",
    "\n",
    "    lda = LatentDirichletAllocation(n_components=n_topics, max_iter=10,\n",
    "                                    learning_method='online',\n",
    "                                    learning_offset=50.)\n",
    "    new_model = lda.fit_transform(tf)\n",
    "\n",
    "    return new_model"
   ]
  },
  {
   "cell_type": "code",
   "execution_count": 47,
   "metadata": {
    "ExecuteTime": {
     "end_time": "2018-06-04T05:39:08.913771Z",
     "start_time": "2018-06-04T05:39:08.907895Z"
    }
   },
   "outputs": [],
   "source": [
    "def apply_topics(new_model, new_games):\n",
    "    topics = []\n",
    "    for item in new_model:\n",
    "        max_ind = argmax(item)\n",
    "        if item[max_ind] < 0.1:\n",
    "            max_ind = -1\n",
    "        topics.append(max_ind)\n",
    "    topic_col = pd.Series(topics)\n",
    "    new_games[\"topic\"] = topic_col.values\n",
    "    return new_games"
   ]
  },
  {
   "cell_type": "code",
   "execution_count": 48,
   "metadata": {
    "ExecuteTime": {
     "end_time": "2018-06-04T05:39:08.924808Z",
     "start_time": "2018-06-04T05:39:08.914895Z"
    },
    "scrolled": false
   },
   "outputs": [],
   "source": [
    "from sklearn.neural_network import MLPClassifier\n",
    "import sklearn.utils"
   ]
  },
  {
   "cell_type": "code",
   "execution_count": 58,
   "metadata": {
    "ExecuteTime": {
     "end_time": "2018-06-04T06:59:28.488837Z",
     "start_time": "2018-06-04T06:59:28.484883Z"
    }
   },
   "outputs": [],
   "source": [
    "def predict_nn(df_game):\n",
    "    temp_df = sklearn.utils.shuffle(df_game)\n",
    "    Y = temp_df[0]\n",
    "    X = temp_df.drop(0, axis = 1)\n",
    "    test_acc = 0\n",
    "    train_acc = 0\n",
    "    clf = MLPClassifier(hidden_layer_sizes=(3, 2), activation='logistic', solver='lbfgs', max_iter = 10, warm_start = False)\n",
    "    clf.classes_ = [\"home\", \"away\"]\n",
    "    clf.fit(X[:11], Y[:11])\n",
    "    train = clf.predict(X[:11]).tolist()\n",
    "    test = clf.predict(X[11:]).tolist()\n",
    "    clf.fit(X[11:], Y[11:])\n",
    "    train.extend(clf.predict(X[11:]).tolist())\n",
    "    test.extend(clf.predict(X[:11]).tolist())\n",
    "    real = Y.tolist()\n",
    "    for i in range(len(real)):\n",
    "        if real[i] == train[i]:\n",
    "            train_acc += 1\n",
    "        if real[i] == test[i]:\n",
    "            test_acc += 1\n",
    "    return train_acc/22, test_acc/22"
   ]
  },
  {
   "cell_type": "code",
   "execution_count": 62,
   "metadata": {
    "ExecuteTime": {
     "end_time": "2018-06-04T09:13:19.452464Z",
     "start_time": "2018-06-04T07:04:04.134512Z"
    }
   },
   "outputs": [
    {
     "name": "stdout",
     "output_type": "stream",
     "text": [
      "2\n",
      "3\n",
      "4\n",
      "5\n",
      "6\n",
      "7\n",
      "8\n",
      "9\n",
      "10\n",
      "11\n",
      "12\n",
      "13\n",
      "14\n",
      "15\n",
      "16\n",
      "17\n",
      "18\n",
      "19\n",
      "20\n",
      "21\n",
      "22\n",
      "23\n",
      "24\n",
      "25\n",
      "26\n",
      "27\n",
      "28\n",
      "29\n",
      "30\n",
      "31\n",
      "32\n",
      "33\n",
      "34\n",
      "35\n",
      "36\n",
      "37\n",
      "38\n",
      "39\n",
      "40\n",
      "41\n",
      "42\n",
      "43\n",
      "44\n",
      "45\n",
      "46\n",
      "47\n",
      "48\n",
      "49\n"
     ]
    }
   ],
   "source": [
    "train_acc = []\n",
    "test_acc = []\n",
    "for n_topics in range(2,50):\n",
    "    print (n_topics)\n",
    "    new_games = games.copy(deep = True)\n",
    "    new_games = apply_topics(get_topics(n_topics, tweets_text), new_games)\n",
    "    teams_only = new_games.loc[new_games[\"hashtag\"].isin(teams)]\n",
    "    df_game = pd.DataFrame(generate_game_freqs(n_topics, teams_only, matchups))\n",
    "    df_game.dropna(inplace = True)\n",
    "    temp_train = []\n",
    "    temp_test = []\n",
    "    for i in range(0, 10):\n",
    "        results = predict_nn(df_game)\n",
    "        temp_train.append(results[0])\n",
    "        temp_test.append(results[1])\n",
    "    train_acc.append(np.mean(temp_train))\n",
    "    test_acc.append(np.mean(temp_test))"
   ]
  },
  {
   "cell_type": "code",
   "execution_count": 142,
   "metadata": {
    "ExecuteTime": {
     "end_time": "2018-06-04T15:21:15.923137Z",
     "start_time": "2018-06-04T15:21:15.920348Z"
    }
   },
   "outputs": [
    {
     "data": {
      "text/plain": [
       "[]"
      ]
     },
     "execution_count": 142,
     "metadata": {},
     "output_type": "execute_result"
    }
   ],
   "source": [
    "test_acc[0:20]"
   ]
  },
  {
   "cell_type": "code",
   "execution_count": 88,
   "metadata": {
    "ExecuteTime": {
     "end_time": "2018-06-04T14:30:15.377250Z",
     "start_time": "2018-06-04T14:30:15.375743Z"
    }
   },
   "outputs": [],
   "source": [
    "#train_acc"
   ]
  },
  {
   "cell_type": "code",
   "execution_count": 109,
   "metadata": {
    "ExecuteTime": {
     "end_time": "2018-06-04T14:36:12.392203Z",
     "start_time": "2018-06-04T14:36:12.165035Z"
    }
   },
   "outputs": [
    {
     "data": {
      "image/png": "[encoded data removed]",
      "text/plain": [
       "<Figure size 432x288 with 1 Axes>"
      ]
     },
     "metadata": {},
     "output_type": "display_data"
    }
   ],
   "source": [
    "import matplotlib.pyplot as plt\n",
    "x_points = [i for i in range(2,50)]\n",
    "plt.plot(x_points, train_acc, 'ro')\n",
    "plt.plot(x_points, test_acc, 'bo')\n",
    "z_train = numpy.polyfit(x_points, train_acc, 1)\n",
    "p_train = numpy.poly1d(z_train)\n",
    "plt.plot(x_points,p_train(x_points),\"r--\")\n",
    "z_test = numpy.polyfit(x_points, test_acc, 1)\n",
    "p_test = numpy.poly1d(z_test)\n",
    "plt.plot(x_points,p_test(x_points),\"b--\")\n",
    "plt.legend([\"Train\", \"Test\"])\n",
    "plt.title(\"Neural Network Accuracy\")\n",
    "#plt.figure(figsize = (20, 20))\n",
    "plt.savefig(\"accuracies.png\", figsize = (30, 30))\n",
    "plt.show()"
   ]
  },
  {
   "cell_type": "code",
   "execution_count": null,
   "metadata": {
    "ExecuteTime": {
     "end_time": "2018-06-02T01:44:52.327423Z",
     "start_time": "2018-06-02T01:44:49.095Z"
    }
   },
   "outputs": [],
   "source": [
    "count_temp = temp_game.groupby([\"hashtag\", \"topic\", \"time_bin\", \"sentiment\"]).count()"
   ]
  },
  {
   "cell_type": "code",
   "execution_count": null,
   "metadata": {
    "ExecuteTime": {
     "end_time": "2018-06-02T01:44:52.327951Z",
     "start_time": "2018-06-02T01:44:49.097Z"
    }
   },
   "outputs": [],
   "source": [
    "count_temp.head() #handle non-existance of parameter set"
   ]
  },
  {
   "cell_type": "code",
   "execution_count": null,
   "metadata": {
    "ExecuteTime": {
     "end_time": "2018-06-02T01:44:52.328462Z",
     "start_time": "2018-06-02T01:44:49.099Z"
    }
   },
   "outputs": [],
   "source": [
    "#count_temp.reset_index(inplace = True)\n",
    "ha = \"#bengals\"\n",
    "example = count_temp.query('hashtag == @ha and topic == 0 and time_bin == 0 and sentiment == \"Positive\"')\n",
    "example.iloc[0].week"
   ]
  },
  {
   "cell_type": "code",
   "execution_count": null,
   "metadata": {
    "ExecuteTime": {
     "end_time": "2018-06-02T01:44:52.329003Z",
     "start_time": "2018-06-02T01:44:49.101Z"
    }
   },
   "outputs": [],
   "source": [
    "game_teams = count_temp.reset_index().hashtag.unique().tolist()"
   ]
  },
  {
   "cell_type": "code",
   "execution_count": null,
   "metadata": {
    "ExecuteTime": {
     "end_time": "2018-06-01T19:51:59.597529Z",
     "start_time": "2018-06-01T19:51:59.594987Z"
    }
   },
   "outputs": [],
   "source": []
  },
  {
   "cell_type": "code",
   "execution_count": null,
   "metadata": {
    "ExecuteTime": {
     "end_time": "2018-06-02T01:44:52.329614Z",
     "start_time": "2018-06-02T01:44:49.105Z"
    }
   },
   "outputs": [],
   "source": [
    "freqs = []\n",
    "for team in game_teams:\n",
    "    for topic in range (n_topics):\n",
    "        for tbin in range (5):\n",
    "            pos = count_temp.query('hashtag == @team and topic == @topic and time_bin == @tbin and sentiment == \"Positive\"')\n",
    "            neg = count_temp.query('hashtag == @team and topic == @topic and time_bin == @tbin and sentiment == \"Negative\"')\n",
    "            if pos.empty:\n",
    "                freqs.append(0.0)\n",
    "            elif neg.empty:\n",
    "                freqs.append(1.0)\n",
    "            else:\n",
    "                pos = pos.iloc[0].week\n",
    "                neg = neg.iloc[0].week\n",
    "                freqs.append(pos/(pos + neg))            "
   ]
  },
  {
   "cell_type": "code",
   "execution_count": null,
   "metadata": {
    "ExecuteTime": {
     "end_time": "2018-06-02T01:44:52.330213Z",
     "start_time": "2018-06-02T01:44:49.105Z"
    }
   },
   "outputs": [],
   "source": [
    "example.iloc[0].week"
   ]
  },
  {
   "cell_type": "code",
   "execution_count": null,
   "metadata": {
    "ExecuteTime": {
     "end_time": "2018-06-02T01:44:52.330785Z",
     "start_time": "2018-06-02T01:44:49.109Z"
    }
   },
   "outputs": [],
   "source": [
    "len(freqs)"
   ]
  },
  {
   "cell_type": "code",
   "execution_count": 1,
   "metadata": {
    "ExecuteTime": {
     "end_time": "2018-06-04T02:56:10.437664Z",
     "start_time": "2018-06-04T02:56:10.434948Z"
    }
   },
   "outputs": [],
   "source": [
    "#http://scikit-learn.org/stable/modules/neural_networks_supervised.html"
   ]
  },
  {
   "cell_type": "code",
   "execution_count": null,
   "metadata": {
    "ExecuteTime": {
     "end_time": "2018-06-04T13:26:24.014350Z",
     "start_time": "2018-06-04T13:24:29.523990Z"
    }
   },
   "outputs": [],
   "source": []
  },
  {
   "cell_type": "code",
   "execution_count": null,
   "metadata": {
    "ExecuteTime": {
     "end_time": "2018-06-04T13:26:24.015253Z",
     "start_time": "2018-06-04T13:24:33.577Z"
    }
   },
   "outputs": [],
   "source": []
  },
  {
   "cell_type": "code",
   "execution_count": null,
   "metadata": {
    "ExecuteTime": {
     "end_time": "2018-06-04T14:28:58.000132Z",
     "start_time": "2018-06-04T13:33:10.182845Z"
    }
   },
   "outputs": [],
   "source": []
  },
  {
   "cell_type": "code",
   "execution_count": 113,
   "metadata": {
    "ExecuteTime": {
     "end_time": "2018-06-04T14:40:32.617766Z",
     "start_time": "2018-06-04T14:40:32.616015Z"
    }
   },
   "outputs": [],
   "source": [
    "from sklearn.metrics import confusion_matrix"
   ]
  },
  {
   "cell_type": "code",
   "execution_count": 117,
   "metadata": {
    "ExecuteTime": {
     "end_time": "2018-06-04T14:43:10.574384Z",
     "start_time": "2018-06-04T14:43:10.570668Z"
    }
   },
   "outputs": [],
   "source": [
    "def predict_nn_cm(df_game):\n",
    "    temp_df = sklearn.utils.shuffle(df_game)\n",
    "    Y = temp_df[0]\n",
    "    X = temp_df.drop(0, axis = 1)\n",
    "    test_acc = 0\n",
    "    train_acc = 0\n",
    "    clf = MLPClassifier(hidden_layer_sizes=(3, 2), activation='logistic', solver='lbfgs', max_iter = 10, warm_start = False)\n",
    "    clf.classes_ = [\"home\", \"away\"]\n",
    "    clf.fit(X[:11], Y[:11])\n",
    "    train = clf.predict(X[:11]).tolist()\n",
    "    test = clf.predict(X[11:]).tolist()\n",
    "    clf.fit(X[11:], Y[11:])\n",
    "    train.extend(clf.predict(X[11:]).tolist())\n",
    "    test.extend(clf.predict(X[:11]).tolist())\n",
    "    real = Y.tolist()\n",
    "    for i in range(len(real)):\n",
    "        if real[i] == train[i]:\n",
    "            train_acc += 1\n",
    "        if real[i] == test[i]:\n",
    "            test_acc += 1\n",
    "    return confusion_matrix(real, test, labels = [\"home\", \"away\"])"
   ]
  },
  {
   "cell_type": "code",
   "execution_count": 160,
   "metadata": {
    "ExecuteTime": {
     "end_time": "2018-06-04T15:45:29.212808Z",
     "start_time": "2018-06-04T15:43:10.802390Z"
    }
   },
   "outputs": [
    {
     "name": "stdout",
     "output_type": "stream",
     "text": [
      "18\n"
     ]
    }
   ],
   "source": [
    "train_acc = []\n",
    "test_acc = []\n",
    "for n_topics in range(18,19):\n",
    "    print (n_topics)\n",
    "    new_games = games.copy(deep = True)\n",
    "    new_games = apply_topics(get_topics(n_topics, tweets_text), new_games)\n",
    "    teams_only = new_games.loc[new_games[\"hashtag\"].isin(teams)]\n",
    "    df_game = pd.DataFrame(generate_game_freqs(n_topics, teams_only, matchups))\n",
    "    df_game.dropna(inplace = True)\n",
    "    temp_train = []\n",
    "    temp_test = []\n",
    "    for i in range(0, 10):\n",
    "        result_cm = predict_nn_cm(df_game)"
   ]
  },
  {
   "cell_type": "code",
   "execution_count": 161,
   "metadata": {
    "ExecuteTime": {
     "end_time": "2018-06-04T15:45:29.485540Z",
     "start_time": "2018-06-04T15:45:29.214194Z"
    }
   },
   "outputs": [
    {
     "name": "stdout",
     "output_type": "stream",
     "text": [
      "<class 'numpy.matrixlib.defmatrix.matrix'>\n"
     ]
    },
    {
     "data": {
      "image/png": "[encoded data removed]",
      "text/plain": [
       "<Figure size 720x504 with 2 Axes>"
      ]
     },
     "metadata": {},
     "output_type": "display_data"
    }
   ],
   "source": [
    "import seaborn as sn\n",
    "labels = [\"Home\", \"Away\"]\n",
    "sn.set(font_scale = 2)\n",
    "print (matrix)\n",
    "cm = pd.DataFrame(result_cm)\n",
    "plt.figure(figsize = (10,7))\n",
    "plt.title(\"Confusion Matrix (Topics = 18)\")\n",
    "ax = sn.heatmap(cm, cmap = \"seismic\", annot=True, xticklabels = labels, yticklabels = labels)\n",
    "ax.set(ylabel = \"Actual Class\", xlabel = \"Predicted Class\");\n",
    "plt.savefig('Normal_cm.png', bbox_inches='tight')"
   ]
  },
  {
   "cell_type": "code",
   "execution_count": null,
   "metadata": {},
   "outputs": [],
   "source": []
  }
 ],
 "metadata": {
  "kernelspec": {
   "display_name": "Python 3",
   "language": "python",
   "name": "python3"
  },
  "language_info": {
   "codemirror_mode": {
    "name": "ipython",
    "version": 3
   },
   "file_extension": ".py",
   "mimetype": "text/x-python",
   "name": "python",
   "nbconvert_exporter": "python",
   "pygments_lexer": "ipython3",
   "version": "3.6.4"
  }
 },
 "nbformat": 4,
 "nbformat_minor": 2
}
